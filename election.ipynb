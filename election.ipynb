{
 "cells": [
  {
   "cell_type": "code",
   "execution_count": 1,
   "id": "6b61ab2d-e971-48b7-b8f4-72b91d378605",
   "metadata": {},
   "outputs": [],
   "source": [
    "import pandas as pd\n",
    "import numpy as np\n",
    "import matplotlib.pyplot as plt\n",
    "import seaborn as sns"
   ]
  },
  {
   "cell_type": "markdown",
   "id": "360709a2-fdad-4fcd-ac52-d11037919cc6",
   "metadata": {},
   "source": [
    "# load data to sql"
   ]
  },
  {
   "cell_type": "code",
   "execution_count": 3,
   "id": "98d77a0d-1e6c-4cd5-ba26-230eb9e88a94",
   "metadata": {},
   "outputs": [],
   "source": [
    "from sqlalchemy import Table,create_engine,Column,Integer,Float,String,DateTime,MetaData"
   ]
  },
  {
   "cell_type": "markdown",
   "id": "c2c93be3-cb5c-4354-8e4b-5fd923e36ffa",
   "metadata": {},
   "source": [
    "\n"
   ]
  },
  {
   "cell_type": "code",
   "execution_count": 5,
   "id": "11a1ea7c-7360-4f92-b133-8ed812bd11a5",
   "metadata": {},
   "outputs": [],
   "source": [
    "metadata=MetaData()"
   ]
  },
  {
   "cell_type": "code",
   "execution_count": 6,
   "id": "7b96418a-7700-485f-826b-081b639c4052",
   "metadata": {},
   "outputs": [],
   "source": [
    "from datetime import datetime"
   ]
  },
  {
   "cell_type": "code",
   "execution_count": 7,
   "id": "682deaa5-d4b0-408a-ac1e-be4ac409c102",
   "metadata": {},
   "outputs": [],
   "source": [
    "df1=pd.read_csv('states.csv')"
   ]
  },
  {
   "cell_type": "code",
   "execution_count": 8,
   "id": "b232959f-c98c-4d6a-9b80-4f48453d8cf1",
   "metadata": {},
   "outputs": [
    {
     "name": "stdout",
     "output_type": "stream",
     "text": [
      "<class 'pandas.core.frame.DataFrame'>\n",
      "RangeIndex: 36 entries, 0 to 35\n",
      "Data columns (total 2 columns):\n",
      " #   Column    Non-Null Count  Dtype \n",
      "---  ------    --------------  ----- \n",
      " 0   State ID  36 non-null     object\n",
      " 1   State     36 non-null     object\n",
      "dtypes: object(2)\n",
      "memory usage: 708.0+ bytes\n"
     ]
    }
   ],
   "source": [
    "df1.info()"
   ]
  },
  {
   "cell_type": "code",
   "execution_count": 9,
   "id": "121e8c24-05a8-45bc-946b-48073fd22480",
   "metadata": {},
   "outputs": [],
   "source": [
    "df2=pd.read_csv('statewise_results.csv')"
   ]
  },
  {
   "cell_type": "code",
   "execution_count": 10,
   "id": "ef6de797-ed09-4045-8899-ee07400364ba",
   "metadata": {},
   "outputs": [
    {
     "name": "stdout",
     "output_type": "stream",
     "text": [
      "<class 'pandas.core.frame.DataFrame'>\n",
      "RangeIndex: 543 entries, 0 to 542\n",
      "Data columns (total 9 columns):\n",
      " #   Column                   Non-Null Count  Dtype \n",
      "---  ------                   --------------  ----- \n",
      " 0   Constituency             543 non-null    object\n",
      " 1   Const. No.               543 non-null    int64 \n",
      " 2   Parliament Constituency  543 non-null    object\n",
      " 3   Leading Candidate        543 non-null    object\n",
      " 4   Trailing Candidate       542 non-null    object\n",
      " 5   Margin                   543 non-null    int64 \n",
      " 6   Status                   543 non-null    object\n",
      " 7   State ID                 543 non-null    object\n",
      " 8   State                    543 non-null    object\n",
      "dtypes: int64(2), object(7)\n",
      "memory usage: 38.3+ KB\n"
     ]
    }
   ],
   "source": [
    "df2.info()"
   ]
  },
  {
   "cell_type": "code",
   "execution_count": 11,
   "id": "39410c5b-aa86-4e7c-90c5-32d51fbc0543",
   "metadata": {},
   "outputs": [
    {
     "data": {
      "text/html": [
       "<div>\n",
       "<style scoped>\n",
       "    .dataframe tbody tr th:only-of-type {\n",
       "        vertical-align: middle;\n",
       "    }\n",
       "\n",
       "    .dataframe tbody tr th {\n",
       "        vertical-align: top;\n",
       "    }\n",
       "\n",
       "    .dataframe thead th {\n",
       "        text-align: right;\n",
       "    }\n",
       "</style>\n",
       "<table border=\"1\" class=\"dataframe\">\n",
       "  <thead>\n",
       "    <tr style=\"text-align: right;\">\n",
       "      <th></th>\n",
       "      <th>Constituency</th>\n",
       "      <th>Const. No.</th>\n",
       "      <th>Parliament Constituency</th>\n",
       "      <th>Leading Candidate</th>\n",
       "      <th>Trailing Candidate</th>\n",
       "      <th>Margin</th>\n",
       "      <th>Status</th>\n",
       "      <th>State ID</th>\n",
       "      <th>State</th>\n",
       "    </tr>\n",
       "  </thead>\n",
       "  <tbody>\n",
       "    <tr>\n",
       "      <th>0</th>\n",
       "      <td>Surat</td>\n",
       "      <td>24</td>\n",
       "      <td>SURAT(24)</td>\n",
       "      <td>MUKESHKUMAR CHANDRAKAANT DALAL</td>\n",
       "      <td>NaN</td>\n",
       "      <td>0</td>\n",
       "      <td>Uncontested</td>\n",
       "      <td>S06</td>\n",
       "      <td>Gujarat</td>\n",
       "    </tr>\n",
       "    <tr>\n",
       "      <th>1</th>\n",
       "      <td>INDORE</td>\n",
       "      <td>26</td>\n",
       "      <td>INDORE(26)</td>\n",
       "      <td>SHANKAR LALWANI</td>\n",
       "      <td>SANJAY S/O LAKSHMAN SOLANKI</td>\n",
       "      <td>1175092</td>\n",
       "      <td>Result Declared</td>\n",
       "      <td>S12</td>\n",
       "      <td>Himachal Pradesh</td>\n",
       "    </tr>\n",
       "    <tr>\n",
       "      <th>2</th>\n",
       "      <td>Dhubri</td>\n",
       "      <td>2</td>\n",
       "      <td>DHUBRI(2)</td>\n",
       "      <td>RAKIBUL HUSSAIN</td>\n",
       "      <td>MOHAMMED BADRUDDIN AJMAL</td>\n",
       "      <td>1012476</td>\n",
       "      <td>Result Declared</td>\n",
       "      <td>S03</td>\n",
       "      <td>Assam</td>\n",
       "    </tr>\n",
       "    <tr>\n",
       "      <th>3</th>\n",
       "      <td>VIDISHA</td>\n",
       "      <td>18</td>\n",
       "      <td>VIDISHA(18)</td>\n",
       "      <td>SHIVRAJ SINGH CHOUHAN</td>\n",
       "      <td>PRATAPBHANU SHARMA</td>\n",
       "      <td>821408</td>\n",
       "      <td>Result Declared</td>\n",
       "      <td>S12</td>\n",
       "      <td>Himachal Pradesh</td>\n",
       "    </tr>\n",
       "    <tr>\n",
       "      <th>4</th>\n",
       "      <td>Navsari</td>\n",
       "      <td>25</td>\n",
       "      <td>NAVSARI(25)</td>\n",
       "      <td>C R PATIL</td>\n",
       "      <td>NAISHADHBHAI BHUPATBHAI  DESAI</td>\n",
       "      <td>773551</td>\n",
       "      <td>Result Declared</td>\n",
       "      <td>S06</td>\n",
       "      <td>Gujarat</td>\n",
       "    </tr>\n",
       "  </tbody>\n",
       "</table>\n",
       "</div>"
      ],
      "text/plain": [
       "  Constituency  Const. No. Parliament Constituency  \\\n",
       "0        Surat          24               SURAT(24)   \n",
       "1       INDORE          26              INDORE(26)   \n",
       "2       Dhubri           2               DHUBRI(2)   \n",
       "3      VIDISHA          18             VIDISHA(18)   \n",
       "4      Navsari          25             NAVSARI(25)   \n",
       "\n",
       "                Leading Candidate              Trailing Candidate   Margin  \\\n",
       "0  MUKESHKUMAR CHANDRAKAANT DALAL                             NaN        0   \n",
       "1                 SHANKAR LALWANI     SANJAY S/O LAKSHMAN SOLANKI  1175092   \n",
       "2                 RAKIBUL HUSSAIN        MOHAMMED BADRUDDIN AJMAL  1012476   \n",
       "3           SHIVRAJ SINGH CHOUHAN              PRATAPBHANU SHARMA   821408   \n",
       "4                       C R PATIL  NAISHADHBHAI BHUPATBHAI  DESAI   773551   \n",
       "\n",
       "            Status State ID             State  \n",
       "0      Uncontested      S06           Gujarat  \n",
       "1  Result Declared      S12  Himachal Pradesh  \n",
       "2  Result Declared      S03             Assam  \n",
       "3  Result Declared      S12  Himachal Pradesh  \n",
       "4  Result Declared      S06           Gujarat  "
      ]
     },
     "execution_count": 11,
     "metadata": {},
     "output_type": "execute_result"
    }
   ],
   "source": [
    "df2.head()"
   ]
  },
  {
   "cell_type": "code",
   "execution_count": 12,
   "id": "3d63d84c-f154-48bb-8839-0e60cf89f647",
   "metadata": {},
   "outputs": [],
   "source": [
    "df3=pd.read_csv('partywise_results.csv')"
   ]
  },
  {
   "cell_type": "code",
   "execution_count": 13,
   "id": "f17f2056-0674-4c8f-8f27-69bb38a076ca",
   "metadata": {},
   "outputs": [
    {
     "name": "stdout",
     "output_type": "stream",
     "text": [
      "<class 'pandas.core.frame.DataFrame'>\n",
      "RangeIndex: 42 entries, 0 to 41\n",
      "Data columns (total 3 columns):\n",
      " #   Column    Non-Null Count  Dtype \n",
      "---  ------    --------------  ----- \n",
      " 0   Party     42 non-null     object\n",
      " 1   Won       42 non-null     int64 \n",
      " 2   Party ID  42 non-null     int64 \n",
      "dtypes: int64(2), object(1)\n",
      "memory usage: 1.1+ KB\n"
     ]
    }
   ],
   "source": [
    "df3.info()"
   ]
  },
  {
   "cell_type": "code",
   "execution_count": 14,
   "id": "fbec600b-d60a-4b6d-9989-179112cb3342",
   "metadata": {},
   "outputs": [],
   "source": [
    "df4=pd.read_csv('constituencywise_details.csv')"
   ]
  },
  {
   "cell_type": "code",
   "execution_count": 15,
   "id": "e6316894-031d-4038-8a3f-d278811ed685",
   "metadata": {},
   "outputs": [
    {
     "name": "stdout",
     "output_type": "stream",
     "text": [
      "<class 'pandas.core.frame.DataFrame'>\n",
      "RangeIndex: 8902 entries, 0 to 8901\n",
      "Data columns (total 8 columns):\n",
      " #   Column           Non-Null Count  Dtype  \n",
      "---  ------           --------------  -----  \n",
      " 0   S.N.             8902 non-null   int64  \n",
      " 1   Candidate        8902 non-null   object \n",
      " 2   Party            8902 non-null   object \n",
      " 3   EVM Votes        8902 non-null   int64  \n",
      " 4   Postal Votes     8902 non-null   int64  \n",
      " 5   Total Votes      8902 non-null   int64  \n",
      " 6   % of Votes       8902 non-null   float64\n",
      " 7   Constituency ID  8902 non-null   object \n",
      "dtypes: float64(1), int64(4), object(3)\n",
      "memory usage: 556.5+ KB\n"
     ]
    }
   ],
   "source": [
    "df4.info()"
   ]
  },
  {
   "cell_type": "code",
   "execution_count": 16,
   "id": "be722839-1906-4a67-85bf-8ce92a1a786e",
   "metadata": {},
   "outputs": [],
   "source": [
    "df5=pd.read_csv('constituencywise_results.csv')"
   ]
  },
  {
   "cell_type": "code",
   "execution_count": 17,
   "id": "2fb49631-0f8c-4758-8b8d-a7f7168b8bb1",
   "metadata": {},
   "outputs": [
    {
     "name": "stdout",
     "output_type": "stream",
     "text": [
      "<class 'pandas.core.frame.DataFrame'>\n",
      "RangeIndex: 543 entries, 0 to 542\n",
      "Data columns (total 8 columns):\n",
      " #   Column                   Non-Null Count  Dtype \n",
      "---  ------                   --------------  ----- \n",
      " 0   S.No                     543 non-null    int64 \n",
      " 1   Parliament Constituency  543 non-null    object\n",
      " 2   Constituency Name        543 non-null    object\n",
      " 3   Winning Candidate        543 non-null    object\n",
      " 4   Total Votes              543 non-null    int64 \n",
      " 5   Margin                   543 non-null    int64 \n",
      " 6   Constituency ID          543 non-null    object\n",
      " 7   Party ID                 543 non-null    int64 \n",
      "dtypes: int64(4), object(4)\n",
      "memory usage: 34.1+ KB\n"
     ]
    }
   ],
   "source": [
    "df5.info()"
   ]
  },
  {
   "cell_type": "code",
   "execution_count": 18,
   "id": "f359b5d8-4394-474a-8f9a-5cbbf16ccd24",
   "metadata": {},
   "outputs": [
    {
     "data": {
      "text/html": [
       "<div>\n",
       "<style scoped>\n",
       "    .dataframe tbody tr th:only-of-type {\n",
       "        vertical-align: middle;\n",
       "    }\n",
       "\n",
       "    .dataframe tbody tr th {\n",
       "        vertical-align: top;\n",
       "    }\n",
       "\n",
       "    .dataframe thead th {\n",
       "        text-align: right;\n",
       "    }\n",
       "</style>\n",
       "<table border=\"1\" class=\"dataframe\">\n",
       "  <thead>\n",
       "    <tr style=\"text-align: right;\">\n",
       "      <th></th>\n",
       "      <th>State ID</th>\n",
       "      <th>State</th>\n",
       "    </tr>\n",
       "  </thead>\n",
       "  <tbody>\n",
       "    <tr>\n",
       "      <th>0</th>\n",
       "      <td>U01</td>\n",
       "      <td>Andaman &amp; Nicobar Islands</td>\n",
       "    </tr>\n",
       "    <tr>\n",
       "      <th>1</th>\n",
       "      <td>S01</td>\n",
       "      <td>Andhra Pradesh</td>\n",
       "    </tr>\n",
       "    <tr>\n",
       "      <th>2</th>\n",
       "      <td>S02</td>\n",
       "      <td>Arunachal Pradesh</td>\n",
       "    </tr>\n",
       "    <tr>\n",
       "      <th>3</th>\n",
       "      <td>S03</td>\n",
       "      <td>Assam</td>\n",
       "    </tr>\n",
       "    <tr>\n",
       "      <th>4</th>\n",
       "      <td>S04</td>\n",
       "      <td>Bihar</td>\n",
       "    </tr>\n",
       "  </tbody>\n",
       "</table>\n",
       "</div>"
      ],
      "text/plain": [
       "  State ID                      State\n",
       "0      U01  Andaman & Nicobar Islands\n",
       "1      S01             Andhra Pradesh\n",
       "2      S02          Arunachal Pradesh\n",
       "3      S03                      Assam\n",
       "4      S04                      Bihar"
      ]
     },
     "execution_count": 18,
     "metadata": {},
     "output_type": "execute_result"
    }
   ],
   "source": [
    "df1.head()"
   ]
  },
  {
   "cell_type": "code",
   "execution_count": 19,
   "id": "315d3a4e-0c7d-4d0a-a706-2f554757579f",
   "metadata": {},
   "outputs": [],
   "source": [
    "tables = {\n",
    "    \"States\": Table(\n",
    "        \"States\",\n",
    "        metadata,\n",
    "        Column('State ID', String),\n",
    "        Column('State', String)\n",
    "    ),\n",
    "    \"statewise_results\": Table(\n",
    "        \"statewise_results\",\n",
    "        metadata,\n",
    "        Column('Constituency', String),\n",
    "        Column('Const. No.', Integer),\n",
    "        Column('Parliament Constituency', String),\n",
    "        Column('Leading Candidate', String),\n",
    "        Column('Trailing Candidate', String, nullable=True),  # Can be null\n",
    "        Column('Margin', Integer),\n",
    "        Column('Status', String),\n",
    "        Column('State ID', String),\n",
    "        Column('State', String)\n",
    "    ),\n",
    "    \"partywise_results\": Table(\n",
    "        \"partywise_results\",\n",
    "        metadata,\n",
    "        Column('Party', String),\n",
    "        Column('Won', Integer),\n",
    "        Column('Party ID', Integer)\n",
    "    ),\n",
    "    \"constituencywise_details\": Table(\n",
    "        \"constituencywise_details\",\n",
    "        metadata,\n",
    "        Column('S.N.', Integer),\n",
    "        Column('Candidate', String),\n",
    "        Column('Party', String),\n",
    "        Column('EVM Votes', Integer),\n",
    "        Column('Postal Votes', Integer),\n",
    "        Column('Total Votes', Integer),\n",
    "        Column('% of Votes', Float),\n",
    "        Column('Constituency ID', String)\n",
    "    ),\n",
    "    \"constituencywise_results\": Table(\n",
    "        \"constituencywise_results\",\n",
    "        metadata,\n",
    "        Column('S.No', Integer),\n",
    "        Column('Parliament Constituency', String),\n",
    "        Column('Constituency Name', String),\n",
    "        Column('Winning Candidate', String),\n",
    "        Column('Total Votes', Integer),\n",
    "        Column('Margin', Integer),\n",
    "        Column('Constituency ID', String),\n",
    "        Column('Party ID', Integer)\n",
    "    )\n",
    "}"
   ]
  },
  {
   "cell_type": "code",
   "execution_count": 20,
   "id": "cf295263-50d9-4cd4-8eb5-8a2cf55dfa4d",
   "metadata": {},
   "outputs": [],
   "source": [
    "db_type='postgresql'\n",
    "database='Election'\n",
    "username='postgres'\n",
    "password='sonu1203#'\n",
    "host='localhost'"
   ]
  },
  {
   "cell_type": "code",
   "execution_count": 21,
   "id": "3fa91a14-6fa5-4386-ad6a-65655cd6b45c",
   "metadata": {},
   "outputs": [],
   "source": [
    "drivers={\n",
    "    'postgresql':'psycopg2',\n",
    "    'mysql':'mysqlconnector'\n",
    "}"
   ]
  },
  {
   "cell_type": "code",
   "execution_count": 22,
   "id": "8fc35aa4-6f50-42b3-b4f7-d64dedabba51",
   "metadata": {},
   "outputs": [],
   "source": [
    "connection_string = f\"{db_type}+{drivers[db_type]}://{username}:{password}@{host}:5432/Election\"\n"
   ]
  },
  {
   "cell_type": "code",
   "execution_count": 23,
   "id": "ec832adf-6c5e-423b-88d9-96b4534aa30e",
   "metadata": {},
   "outputs": [],
   "source": [
    "engine=create_engine(connection_string)"
   ]
  },
  {
   "cell_type": "code",
   "execution_count": 24,
   "id": "e03a1086-1c70-4426-9ac2-feac5cbaedc3",
   "metadata": {},
   "outputs": [],
   "source": [
    "metadata.create_all(engine)"
   ]
  },
  {
   "cell_type": "code",
   "execution_count": 25,
   "id": "b19df91d-7708-4117-af8e-85bb053bb598",
   "metadata": {},
   "outputs": [],
   "source": [
    "with engine.connect() as connection:\n",
    "    df1.to_sql('States',con=connection,if_exists=\"append\",index=False),\n",
    "    df2.to_sql('statewise_results', con=connection, if_exists=\"append\", index=False)\n",
    "    df3.to_sql('partywise_results', con=connection, if_exists=\"append\", index=False)\n",
    "    df4.to_sql('constituencywise_details', con=connection, if_exists=\"append\", index=False)\n",
    "    df5.to_sql('constituencywise_results', con=connection, if_exists=\"append\", index=False)\n"
   ]
  },
  {
   "cell_type": "markdown",
   "id": "11100cbd-1f3d-467b-81f4-7fc8731d0a4e",
   "metadata": {},
   "source": [
    "# Data analyzing and visualizing"
   ]
  },
  {
   "cell_type": "markdown",
   "id": "9dd58b02-25f7-4a23-8410-e6b5ddb3ab8f",
   "metadata": {},
   "source": [
    "# Q 1] Total seats ?"
   ]
  },
  {
   "cell_type": "code",
   "execution_count": 28,
   "id": "257939a3-2dd0-40c0-b6cb-5e2526f4d54d",
   "metadata": {},
   "outputs": [],
   "source": [
    "query='select count(distinct \"Constituency ID\") as total_seats from  constituency_wise_results;'\n",
    "total=pd.read_sql(query,engine)"
   ]
  },
  {
   "cell_type": "code",
   "execution_count": 29,
   "id": "c31caa1c-fa48-4a03-b9db-45fc684034a3",
   "metadata": {},
   "outputs": [
    {
     "name": "stdout",
     "output_type": "stream",
     "text": [
      "total seats:    total_seats\n",
      "0          543\n"
     ]
    }
   ],
   "source": [
    "print(\"total seats:\",total)"
   ]
  },
  {
   "cell_type": "markdown",
   "id": "9edb10cf-0455-4fe5-8890-28815949fa31",
   "metadata": {},
   "source": [
    "# Q2] what are the total no of seats available for election in each state;"
   ]
  },
  {
   "cell_type": "code",
   "execution_count": 31,
   "id": "13603cf5-ab12-4ff5-bde4-d50a31abcef4",
   "metadata": {},
   "outputs": [],
   "source": [
    "query='''SELECT \n",
    "    \"States\".\"State\" AS statename,\n",
    "    COUNT(distinct \"statewise_results\".\"Parliament Constituency\") AS total_constituencies\n",
    "FROM \n",
    "    \"States\"\n",
    "JOIN \n",
    "    \"statewise_results\"\n",
    "ON \n",
    "    \"States\".\"State ID\" = \"statewise_results\".\"State ID\"\n",
    "GROUP BY \n",
    "    \"States\".\"State\"\n",
    "ORDER BY \n",
    "    total_constituencies DESC;'''\n",
    "total=pd.read_sql(query,engine)"
   ]
  },
  {
   "cell_type": "code",
   "execution_count": null,
   "id": "3e36d8b5-9b71-42c8-9098-5d220b23bd2d",
   "metadata": {},
   "outputs": [],
   "source": []
  },
  {
   "cell_type": "code",
   "execution_count": 32,
   "id": "1b6bb7d6-10e5-47a9-a710-539766c329a0",
   "metadata": {},
   "outputs": [
    {
     "data": {
      "image/png": "[encoded data removed]",
      "text/plain": [
       "<Figure size 1000x800 with 1 Axes>"
      ]
     },
     "metadata": {},
     "output_type": "display_data"
    }
   ],
   "source": [
    "total = total.sort_values('total_constituencies', ascending=False)\n",
    "\n",
    "\n",
    "colors = plt.cm.viridis(np.linspace(0, 1, len(total)))\n",
    "\n",
    "plt.figure(figsize=(10, 8))\n",
    "bars = plt.barh(total['statename'], total['total_constituencies'], color=colors)\n",
    "\n",
    "\n",
    "for bar in bars:\n",
    "    plt.text(bar.get_width() + 1, bar.get_y() + bar.get_height() / 2, \n",
    "             f'{bar.get_width()}', va='center', ha='left', color='black', fontsize=10)\n",
    "\n",
    "plt.xlabel('Total Constituencies')\n",
    "plt.ylabel('State')\n",
    "plt.title('Total Constituencies per State')\n",
    "plt.gca().invert_yaxis()  \n",
    "plt.show()"
   ]
  },
  {
   "cell_type": "markdown",
   "id": "d898d124-3f32-46f8-bcc8-47b1ab4d8845",
   "metadata": {},
   "source": [
    "# as you see in above diagram that utterpradesh has most seats 80"
   ]
  },
  {
   "cell_type": "markdown",
   "id": "d914b450-863d-40b0-ada6-96d5f5367551",
   "metadata": {},
   "source": [
    " # Q3] Total seats won by NDA Alliance?"
   ]
  },
  {
   "cell_type": "code",
   "execution_count": 35,
   "id": "de5a9355-c89e-4e37-845b-018eed286fe6",
   "metadata": {},
   "outputs": [],
   "source": [
    "query='''SELECT DISTINCT ON (\"Party\") *\n",
    "FROM \"partywise_results\"\n",
    "WHERE \"alliance\" = 'NDA'\n",
    "ORDER BY \"Party\", \"Party ID\";'''\n",
    "total=pd.read_sql(query,engine)"
   ]
  },
  {
   "cell_type": "code",
   "execution_count": 36,
   "id": "ec1032a8-c6ff-4852-8910-e915984813af",
   "metadata": {},
   "outputs": [
    {
     "name": "stderr",
     "output_type": "stream",
     "text": [
      "C:\\Users\\hp\\AppData\\Local\\Temp\\ipykernel_19680\\3416820662.py:4: FutureWarning: \n",
      "\n",
      "Passing `palette` without assigning `hue` is deprecated and will be removed in v0.14.0. Assign the `x` variable to `hue` and set `legend=False` for the same effect.\n",
      "\n",
      "  sns.barplot(x='Party', y='Won', data=total, palette='tab20')\n"
     ]
    },
    {
     "data": {
      "image/png": "[encoded data removed]",
      "text/plain": [
       "<Figure size 1200x800 with 1 Axes>"
      ]
     },
     "metadata": {},
     "output_type": "display_data"
    }
   ],
   "source": [
    "plt.figure(figsize=(12, 8))\n",
    "\n",
    "# Create a bar plot with different colors for each party\n",
    "sns.barplot(x='Party', y='Won', data=total, palette='tab20')\n",
    "\n",
    "# Add value labels on top of each bar\n",
    "for index, value in enumerate(total['Won']):\n",
    "    plt.text(index, value + 0.5, str(value), ha='center', va='bottom', fontsize=10)\n",
    "\n",
    "# Rotate the x-axis labels for better visibility\n",
    "plt.xticks(rotation=90)\n",
    "\n",
    "# Add labels and title\n",
    "plt.xlabel('Party Name')\n",
    "plt.ylabel('Seats Won')\n",
    "plt.title('Seats Won by Each Party in NDA Alliance')\n",
    "\n",
    "# Show the plot\n",
    "plt.tight_layout()\n",
    "plt.show()"
   ]
  },
  {
   "cell_type": "code",
   "execution_count": null,
   "id": "ac7604f4-2506-4509-a0e9-21c013690982",
   "metadata": {},
   "outputs": [],
   "source": []
  },
  {
   "cell_type": "code",
   "execution_count": 37,
   "id": "dae40e79-840a-4386-8917-c486cce48c92",
   "metadata": {},
   "outputs": [],
   "source": [
    "query='''SELECT \"alliance\", SUM(\"Won\") AS \"seats_won\"\n",
    "FROM (\n",
    "    SELECT DISTINCT \"Party\", \"Won\", \"alliance\"\n",
    "    FROM \"partywise_results\"\n",
    "    WHERE \"alliance\" = 'NDA'\n",
    ") AS distinct_parties\n",
    "GROUP BY \"alliance\";\n",
    "'''\n",
    "total=pd.read_sql(query,engine)"
   ]
  },
  {
   "cell_type": "markdown",
   "id": "cd3a2052-182e-48b7-861e-398b8d9b38c3",
   "metadata": {},
   "source": [
    "# total seats won by NDA allinces"
   ]
  },
  {
   "cell_type": "code",
   "execution_count": 39,
   "id": "6799983d-b21b-4ca8-82c5-b2b9550ec6ea",
   "metadata": {},
   "outputs": [
    {
     "data": {
      "text/html": [
       "<div>\n",
       "<style scoped>\n",
       "    .dataframe tbody tr th:only-of-type {\n",
       "        vertical-align: middle;\n",
       "    }\n",
       "\n",
       "    .dataframe tbody tr th {\n",
       "        vertical-align: top;\n",
       "    }\n",
       "\n",
       "    .dataframe thead th {\n",
       "        text-align: right;\n",
       "    }\n",
       "</style>\n",
       "<table border=\"1\" class=\"dataframe\">\n",
       "  <thead>\n",
       "    <tr style=\"text-align: right;\">\n",
       "      <th></th>\n",
       "      <th>alliance</th>\n",
       "      <th>seats_won</th>\n",
       "    </tr>\n",
       "  </thead>\n",
       "  <tbody>\n",
       "    <tr>\n",
       "      <th>0</th>\n",
       "      <td>NDA</td>\n",
       "      <td>293</td>\n",
       "    </tr>\n",
       "  </tbody>\n",
       "</table>\n",
       "</div>"
      ],
      "text/plain": [
       "  alliance  seats_won\n",
       "0      NDA        293"
      ]
     },
     "execution_count": 39,
     "metadata": {},
     "output_type": "execute_result"
    }
   ],
   "source": [
    "total"
   ]
  },
  {
   "cell_type": "markdown",
   "id": "94e6f2db-2a6e-47b0-8e06-e02c38fa57a0",
   "metadata": {},
   "source": [
    " # Q4] Total seats won by INDIA Alliance?"
   ]
  },
  {
   "cell_type": "code",
   "execution_count": 41,
   "id": "23ce239f-9c1e-424c-9c92-ae419e351c73",
   "metadata": {},
   "outputs": [],
   "source": [
    "query='''SELECT DISTINCT ON (\"Party\") *\n",
    "FROM \"partywise_results\"\n",
    "WHERE \"alliance\" = 'INDIA'\n",
    "ORDER BY \"Party\", \"Party ID\";'''\n",
    "total=pd.read_sql(query,engine)"
   ]
  },
  {
   "cell_type": "code",
   "execution_count": 42,
   "id": "3c2ad982-ce4b-4bd3-ac2e-36d388bfc0a1",
   "metadata": {},
   "outputs": [
    {
     "name": "stderr",
     "output_type": "stream",
     "text": [
      "C:\\Users\\hp\\AppData\\Local\\Temp\\ipykernel_19680\\2723498198.py:4: FutureWarning: \n",
      "\n",
      "Passing `palette` without assigning `hue` is deprecated and will be removed in v0.14.0. Assign the `x` variable to `hue` and set `legend=False` for the same effect.\n",
      "\n",
      "  sns.barplot(x='Party', y='Won', data=total, palette='tab20')\n"
     ]
    },
    {
     "data": {
      "image/png": "[encoded data removed]",
      "text/plain": [
       "<Figure size 1200x1000 with 1 Axes>"
      ]
     },
     "metadata": {},
     "output_type": "display_data"
    }
   ],
   "source": [
    "plt.figure(figsize=(12, 10))\n",
    "\n",
    "# Create a bar plot with different colors for each party\n",
    "sns.barplot(x='Party', y='Won', data=total, palette='tab20')\n",
    "\n",
    "# Add value labels on top of each bar\n",
    "for index, value in enumerate(total['Won']):\n",
    "    plt.text(index, value + 0.5, str(value), ha='center', va='bottom', fontsize=10)\n",
    "\n",
    "# Rotate the x-axis labels for better visibility\n",
    "plt.xticks(rotation=90)\n",
    "\n",
    "# Add labels and title\n",
    "plt.xlabel('Party Name')\n",
    "plt.ylabel('Seats Won')\n",
    "plt.title('Seats Won by Each Party in INDIA Alliance')\n",
    "\n",
    "# Show the plot\n",
    "plt.tight_layout()\n",
    "plt.show()"
   ]
  },
  {
   "cell_type": "code",
   "execution_count": 43,
   "id": "c07307bf-e64f-43a1-9f39-8aa82d15ce0b",
   "metadata": {},
   "outputs": [],
   "source": [
    "query='''SELECT \"alliance\", SUM(\"Won\") AS \"seats_won\"\n",
    "FROM (\n",
    "    SELECT DISTINCT \"Party\", \"Won\", \"alliance\"\n",
    "    FROM \"partywise_results\"\n",
    "    WHERE \"alliance\" = 'INDIA'\n",
    ") AS distinct_parties\n",
    "GROUP BY \"alliance\";'''\n",
    "total=pd.read_sql(query,engine)"
   ]
  },
  {
   "cell_type": "markdown",
   "id": "caadf63b-9f11-4fd8-a8d0-4e57419f2af6",
   "metadata": {},
   "source": [
    "# total seats won by india allinces"
   ]
  },
  {
   "cell_type": "code",
   "execution_count": 45,
   "id": "4c636dd4-ad41-49eb-851a-92dbd8fd12ca",
   "metadata": {},
   "outputs": [
    {
     "data": {
      "text/html": [
       "<div>\n",
       "<style scoped>\n",
       "    .dataframe tbody tr th:only-of-type {\n",
       "        vertical-align: middle;\n",
       "    }\n",
       "\n",
       "    .dataframe tbody tr th {\n",
       "        vertical-align: top;\n",
       "    }\n",
       "\n",
       "    .dataframe thead th {\n",
       "        text-align: right;\n",
       "    }\n",
       "</style>\n",
       "<table border=\"1\" class=\"dataframe\">\n",
       "  <thead>\n",
       "    <tr style=\"text-align: right;\">\n",
       "      <th></th>\n",
       "      <th>alliance</th>\n",
       "      <th>seats_won</th>\n",
       "    </tr>\n",
       "  </thead>\n",
       "  <tbody>\n",
       "    <tr>\n",
       "      <th>0</th>\n",
       "      <td>INDIA</td>\n",
       "      <td>234</td>\n",
       "    </tr>\n",
       "  </tbody>\n",
       "</table>\n",
       "</div>"
      ],
      "text/plain": [
       "  alliance  seats_won\n",
       "0    INDIA        234"
      ]
     },
     "execution_count": 45,
     "metadata": {},
     "output_type": "execute_result"
    }
   ],
   "source": [
    "total"
   ]
  },
  {
   "cell_type": "markdown",
   "id": "0ab74b21-a665-4b66-b04c-8a74a5f38911",
   "metadata": {},
   "source": [
    " # Q5] Total seats won by Independent/others?"
   ]
  },
  {
   "cell_type": "code",
   "execution_count": 47,
   "id": "e600d426-ab41-4d4f-868d-2b0e401c7994",
   "metadata": {},
   "outputs": [],
   "source": [
    "query='''SELECT \"alliance\", SUM(\"Won\") AS \"seats_won\"\n",
    "FROM (\n",
    "    SELECT DISTINCT \"Party\", \"Won\", \"alliance\"\n",
    "    FROM \"partywise_results\"\n",
    "    WHERE \"alliance\" NOT IN ('INDIA', 'NDA')\n",
    ") AS distinct_parties\n",
    "GROUP BY \"alliance\";'''\n",
    "total=pd.read_sql(query,engine)"
   ]
  },
  {
   "cell_type": "markdown",
   "id": "665c89db-40f7-4421-b7a8-b02dcb01e990",
   "metadata": {},
   "source": [
    "# total seats won by independent/others"
   ]
  },
  {
   "cell_type": "code",
   "execution_count": 49,
   "id": "8e404597-1492-482a-babf-1b0cafcf00c5",
   "metadata": {},
   "outputs": [
    {
     "data": {
      "text/html": [
       "<div>\n",
       "<style scoped>\n",
       "    .dataframe tbody tr th:only-of-type {\n",
       "        vertical-align: middle;\n",
       "    }\n",
       "\n",
       "    .dataframe tbody tr th {\n",
       "        vertical-align: top;\n",
       "    }\n",
       "\n",
       "    .dataframe thead th {\n",
       "        text-align: right;\n",
       "    }\n",
       "</style>\n",
       "<table border=\"1\" class=\"dataframe\">\n",
       "  <thead>\n",
       "    <tr style=\"text-align: right;\">\n",
       "      <th></th>\n",
       "      <th>alliance</th>\n",
       "      <th>seats_won</th>\n",
       "    </tr>\n",
       "  </thead>\n",
       "  <tbody>\n",
       "    <tr>\n",
       "      <th>0</th>\n",
       "      <td>Other</td>\n",
       "      <td>16</td>\n",
       "    </tr>\n",
       "  </tbody>\n",
       "</table>\n",
       "</div>"
      ],
      "text/plain": [
       "  alliance  seats_won\n",
       "0    Other         16"
      ]
     },
     "execution_count": 49,
     "metadata": {},
     "output_type": "execute_result"
    }
   ],
   "source": [
    "total"
   ]
  },
  {
   "cell_type": "markdown",
   "id": "b67232e1-4a6b-4631-87da-b2d061d83c84",
   "metadata": {},
   "source": [
    "# -Q 6] select party which won most seats ?\n"
   ]
  },
  {
   "cell_type": "code",
   "execution_count": 51,
   "id": "e447aa52-4789-4bf0-947f-40256ca99544",
   "metadata": {},
   "outputs": [],
   "source": [
    "query='''SELECT \"Party\", \"Won\" \n",
    "FROM \"partywise_results\" \n",
    "ORDER BY \"Won\" DESC \n",
    "LIMIT 1;\n",
    "'''\n",
    "total=pd.read_sql(query,engine)"
   ]
  },
  {
   "cell_type": "code",
   "execution_count": 52,
   "id": "2a6ea27c-750c-4e54-abe8-e74dfc9f2f8a",
   "metadata": {},
   "outputs": [
    {
     "data": {
      "text/html": [
       "<div>\n",
       "<style scoped>\n",
       "    .dataframe tbody tr th:only-of-type {\n",
       "        vertical-align: middle;\n",
       "    }\n",
       "\n",
       "    .dataframe tbody tr th {\n",
       "        vertical-align: top;\n",
       "    }\n",
       "\n",
       "    .dataframe thead th {\n",
       "        text-align: right;\n",
       "    }\n",
       "</style>\n",
       "<table border=\"1\" class=\"dataframe\">\n",
       "  <thead>\n",
       "    <tr style=\"text-align: right;\">\n",
       "      <th></th>\n",
       "      <th>Party</th>\n",
       "      <th>Won</th>\n",
       "    </tr>\n",
       "  </thead>\n",
       "  <tbody>\n",
       "    <tr>\n",
       "      <th>0</th>\n",
       "      <td>Bharatiya Janata Party - BJP</td>\n",
       "      <td>240</td>\n",
       "    </tr>\n",
       "  </tbody>\n",
       "</table>\n",
       "</div>"
      ],
      "text/plain": [
       "                          Party  Won\n",
       "0  Bharatiya Janata Party - BJP  240"
      ]
     },
     "execution_count": 52,
     "metadata": {},
     "output_type": "execute_result"
    }
   ],
   "source": [
    "total"
   ]
  },
  {
   "cell_type": "markdown",
   "id": "45ac97b5-d07d-4db3-86ac-b32618c81531",
   "metadata": {},
   "source": [
    " # Q7]seats won by different  different alliance ?\n"
   ]
  },
  {
   "cell_type": "code",
   "execution_count": 54,
   "id": "c7be5c3e-314e-4f59-8196-91e042c6b250",
   "metadata": {},
   "outputs": [],
   "source": [
    "query='''SELECT \"alliance\", SUM(\"Won\") AS total_seats\n",
    "FROM (\n",
    "    SELECT DISTINCT \"Party\", \"Won\", \"alliance\"\n",
    "    FROM \"partywise_results\"\n",
    "    WHERE \"Party\" IS NOT NULL AND \"Won\" IS NOT NULL AND \"alliance\" IS NOT NULL\n",
    ") AS distinct_parties\n",
    "GROUP BY \"alliance\"\n",
    "ORDER BY total_seats DESC;\n",
    "'''\n",
    "total=pd.read_sql(query,engine)"
   ]
  },
  {
   "cell_type": "code",
   "execution_count": 55,
   "id": "806532f3-b5e4-4251-83e3-37db6d69ac37",
   "metadata": {},
   "outputs": [
    {
     "data": {
      "text/html": [
       "<div>\n",
       "<style scoped>\n",
       "    .dataframe tbody tr th:only-of-type {\n",
       "        vertical-align: middle;\n",
       "    }\n",
       "\n",
       "    .dataframe tbody tr th {\n",
       "        vertical-align: top;\n",
       "    }\n",
       "\n",
       "    .dataframe thead th {\n",
       "        text-align: right;\n",
       "    }\n",
       "</style>\n",
       "<table border=\"1\" class=\"dataframe\">\n",
       "  <thead>\n",
       "    <tr style=\"text-align: right;\">\n",
       "      <th></th>\n",
       "      <th>alliance</th>\n",
       "      <th>total_seats</th>\n",
       "    </tr>\n",
       "  </thead>\n",
       "  <tbody>\n",
       "    <tr>\n",
       "      <th>0</th>\n",
       "      <td>NDA</td>\n",
       "      <td>293</td>\n",
       "    </tr>\n",
       "    <tr>\n",
       "      <th>1</th>\n",
       "      <td>INDIA</td>\n",
       "      <td>234</td>\n",
       "    </tr>\n",
       "    <tr>\n",
       "      <th>2</th>\n",
       "      <td>Other</td>\n",
       "      <td>16</td>\n",
       "    </tr>\n",
       "  </tbody>\n",
       "</table>\n",
       "</div>"
      ],
      "text/plain": [
       "  alliance  total_seats\n",
       "0      NDA          293\n",
       "1    INDIA          234\n",
       "2    Other           16"
      ]
     },
     "execution_count": 55,
     "metadata": {},
     "output_type": "execute_result"
    }
   ],
   "source": [
    "total"
   ]
  },
  {
   "cell_type": "code",
   "execution_count": 56,
   "id": "5651850e-1d4a-47b3-a377-515378596186",
   "metadata": {},
   "outputs": [
    {
     "name": "stderr",
     "output_type": "stream",
     "text": [
      "C:\\Users\\hp\\AppData\\Local\\Temp\\ipykernel_19680\\1266089755.py:2: FutureWarning: \n",
      "\n",
      "Passing `palette` without assigning `hue` is deprecated and will be removed in v0.14.0. Assign the `x` variable to `hue` and set `legend=False` for the same effect.\n",
      "\n",
      "  ax = sns.barplot(x='alliance', y='total_seats', data=total, palette='viridis')\n"
     ]
    },
    {
     "data": {
      "image/png": "[encoded data removed]",
      "text/plain": [
       "<Figure size 800x600 with 1 Axes>"
      ]
     },
     "metadata": {},
     "output_type": "display_data"
    }
   ],
   "source": [
    "\n",
    "plt.figure(figsize=(8, 6))\n",
    "ax = sns.barplot(x='alliance', y='total_seats', data=total, palette='viridis')\n",
    "\n",
    "\n",
    "for p in ax.patches:\n",
    "    ax.annotate(f'{p.get_height()}',\n",
    "                (p.get_x() + p.get_width() / 2., p.get_height()),\n",
    "                ha='center', va='center', \n",
    "                fontsize=12, color='black', \n",
    "                xytext=(0, 5), textcoords='offset points')\n",
    "\n",
    "\n",
    "plt.xlabel('Alliance')\n",
    "plt.ylabel('Total Seats')\n",
    "plt.title('Total Seats by Alliance')\n",
    "\n",
    "\n",
    "plt.show()"
   ]
  },
  {
   "cell_type": "markdown",
   "id": "906d6cb4-f75b-4847-bc53-bc83ac29ac9d",
   "metadata": {},
   "source": [
    "# Q 8] winning candidate name,theire party_name and winning margine for specific state and constituency?\n"
   ]
  },
  {
   "cell_type": "code",
   "execution_count": null,
   "id": "8ca0bcdf-dc01-47be-874c-537534a9d1ce",
   "metadata": {},
   "outputs": [],
   "source": [
    "\n"
   ]
  },
  {
   "cell_type": "code",
   "execution_count": 58,
   "id": "b6a7e643-bb67-4e07-8ecd-79f14f304de1",
   "metadata": {},
   "outputs": [],
   "source": [
    "query='''SELECT DISTINCT\n",
    "    \"constituencywise_results\".\"Constituency Name\", \n",
    "    \"constituencywise_results\".\"Winning Candidate\", \n",
    "    \"partywise_results\".\"Party\", \n",
    "    \"constituencywise_results\".\"Margin\", \n",
    "    \"States\".\"State\"\n",
    "FROM \n",
    "    \"constituencywise_results\"\n",
    "JOIN \n",
    "    \"partywise_results\" \n",
    "    ON \"constituencywise_results\".\"Party ID\" = \"partywise_results\".\"Party ID\"\n",
    "JOIN \n",
    "    \"statewise_results\" \n",
    "    ON \"constituencywise_results\".\"Parliament Constituency\" = \"statewise_results\".\"Parliament Constituency\"\n",
    "JOIN \n",
    "    \"States\" \n",
    "    ON \"statewise_results\".\"State ID\" = \"States\".\"State ID\"\n",
    "WHERE \n",
    "    \"States\".\"State\" = 'Maharashtra'\n",
    "    AND \"constituencywise_results\".\"Constituency Name\" = 'BARAMATI';\n",
    "\n",
    "\n",
    "'''\n",
    "total=pd.read_sql(query,engine)"
   ]
  },
  {
   "cell_type": "code",
   "execution_count": 59,
   "id": "cd12bdc1-35e0-4dee-ae6c-3884420efc12",
   "metadata": {},
   "outputs": [
    {
     "data": {
      "text/html": [
       "<div>\n",
       "<style scoped>\n",
       "    .dataframe tbody tr th:only-of-type {\n",
       "        vertical-align: middle;\n",
       "    }\n",
       "\n",
       "    .dataframe tbody tr th {\n",
       "        vertical-align: top;\n",
       "    }\n",
       "\n",
       "    .dataframe thead th {\n",
       "        text-align: right;\n",
       "    }\n",
       "</style>\n",
       "<table border=\"1\" class=\"dataframe\">\n",
       "  <thead>\n",
       "    <tr style=\"text-align: right;\">\n",
       "      <th></th>\n",
       "      <th>Constituency Name</th>\n",
       "      <th>Winning Candidate</th>\n",
       "      <th>Party</th>\n",
       "      <th>Margin</th>\n",
       "      <th>State</th>\n",
       "    </tr>\n",
       "  </thead>\n",
       "  <tbody>\n",
       "    <tr>\n",
       "      <th>0</th>\n",
       "      <td>BARAMATI</td>\n",
       "      <td>SUPRIYA SULE</td>\n",
       "      <td>Nationalist Congress Party Sharadchandra Pawar...</td>\n",
       "      <td>158333</td>\n",
       "      <td>Maharashtra</td>\n",
       "    </tr>\n",
       "  </tbody>\n",
       "</table>\n",
       "</div>"
      ],
      "text/plain": [
       "  Constituency Name Winning Candidate  \\\n",
       "0          BARAMATI      SUPRIYA SULE   \n",
       "\n",
       "                                               Party  Margin        State  \n",
       "0  Nationalist Congress Party Sharadchandra Pawar...  158333  Maharashtra  "
      ]
     },
     "execution_count": 59,
     "metadata": {},
     "output_type": "execute_result"
    }
   ],
   "source": [
    "total"
   ]
  },
  {
   "cell_type": "code",
   "execution_count": 60,
   "id": "f4b7a3ee-a4e4-4e7d-947c-bbf8ac343c40",
   "metadata": {},
   "outputs": [],
   "source": [
    "# this is one eg thatwinning candidate name,theire party_name and winning margine for specific state and constituency"
   ]
  },
  {
   "cell_type": "markdown",
   "id": "7ea127f5-d27e-47ab-b32f-e16d2063e2c1",
   "metadata": {},
   "source": [
    "# Q ]9  what is distibution of evm ,postal and total votes for candidates in specific constituency;"
   ]
  },
  {
   "cell_type": "code",
   "execution_count": 62,
   "id": "9ee7d1d5-6363-4c7c-ab17-8370630c49ca",
   "metadata": {},
   "outputs": [],
   "source": [
    "query='''\n",
    "   \n",
    "SELECT DISTINCT \n",
    "    \"constituencywise_results\".\"Constituency Name\",\n",
    "    \"constituencywise_details\".\"Candidate\",\n",
    "    \"constituencywise_details\".\"EVM Votes\",\n",
    "    \"constituencywise_details\".\"Postal Votes\",\n",
    "    \"constituencywise_details\".\"Total Votes\"\n",
    "FROM \n",
    "    \"constituencywise_results\"\n",
    "JOIN \n",
    "    \"constituencywise_details\" \n",
    "    ON \"constituencywise_details\".\"Constituency ID\" = \"constituencywise_results\".\"Constituency ID\"\n",
    "WHERE \n",
    "    \"constituencywise_results\".\"Constituency Name\" = 'BARAMATI'\n",
    "ORDER BY \n",
    "    \"constituencywise_details\".\"Total Votes\" DESC;\n",
    "\n",
    "\n",
    "'''\n",
    "total=pd.read_sql(query,engine)"
   ]
  },
  {
   "cell_type": "code",
   "execution_count": 63,
   "id": "e8c8e2b7-3c6d-4346-adbf-0a953c6ab9af",
   "metadata": {},
   "outputs": [
    {
     "data": {
      "text/html": [
       "<div>\n",
       "<style scoped>\n",
       "    .dataframe tbody tr th:only-of-type {\n",
       "        vertical-align: middle;\n",
       "    }\n",
       "\n",
       "    .dataframe tbody tr th {\n",
       "        vertical-align: top;\n",
       "    }\n",
       "\n",
       "    .dataframe thead th {\n",
       "        text-align: right;\n",
       "    }\n",
       "</style>\n",
       "<table border=\"1\" class=\"dataframe\">\n",
       "  <thead>\n",
       "    <tr style=\"text-align: right;\">\n",
       "      <th></th>\n",
       "      <th>Constituency Name</th>\n",
       "      <th>Candidate</th>\n",
       "      <th>EVM Votes</th>\n",
       "      <th>Postal Votes</th>\n",
       "      <th>Total Votes</th>\n",
       "    </tr>\n",
       "  </thead>\n",
       "  <tbody>\n",
       "    <tr>\n",
       "      <th>0</th>\n",
       "      <td>BARAMATI</td>\n",
       "      <td>SUPRIYA SULE</td>\n",
       "      <td>731400</td>\n",
       "      <td>912</td>\n",
       "      <td>732312</td>\n",
       "    </tr>\n",
       "    <tr>\n",
       "      <th>1</th>\n",
       "      <td>BARAMATI</td>\n",
       "      <td>SUNETRA AJITDADA PAWAR</td>\n",
       "      <td>573391</td>\n",
       "      <td>588</td>\n",
       "      <td>573979</td>\n",
       "    </tr>\n",
       "    <tr>\n",
       "      <th>2</th>\n",
       "      <td>BARAMATI</td>\n",
       "      <td>MAHESH SITARAM BHAGWAT</td>\n",
       "      <td>15620</td>\n",
       "      <td>43</td>\n",
       "      <td>15663</td>\n",
       "    </tr>\n",
       "    <tr>\n",
       "      <th>3</th>\n",
       "      <td>BARAMATI</td>\n",
       "      <td>SHAIKH SOYALSHAHA YUNUSSHAHA</td>\n",
       "      <td>14913</td>\n",
       "      <td>4</td>\n",
       "      <td>14917</td>\n",
       "    </tr>\n",
       "    <tr>\n",
       "      <th>4</th>\n",
       "      <td>BARAMATI</td>\n",
       "      <td>PRIYADARSHANI NANDKUMAR KOKARE</td>\n",
       "      <td>9995</td>\n",
       "      <td>35</td>\n",
       "      <td>10030</td>\n",
       "    </tr>\n",
       "    <tr>\n",
       "      <th>5</th>\n",
       "      <td>BARAMATI</td>\n",
       "      <td>NOTA</td>\n",
       "      <td>9130</td>\n",
       "      <td>21</td>\n",
       "      <td>9151</td>\n",
       "    </tr>\n",
       "    <tr>\n",
       "      <th>6</th>\n",
       "      <td>BARAMATI</td>\n",
       "      <td>SACHIN SHANKAR AGAWANE</td>\n",
       "      <td>6633</td>\n",
       "      <td>0</td>\n",
       "      <td>6633</td>\n",
       "    </tr>\n",
       "    <tr>\n",
       "      <th>7</th>\n",
       "      <td>BARAMATI</td>\n",
       "      <td>KAMBLE TRISHALA</td>\n",
       "      <td>5032</td>\n",
       "      <td>4</td>\n",
       "      <td>5036</td>\n",
       "    </tr>\n",
       "    <tr>\n",
       "      <th>8</th>\n",
       "      <td>BARAMATI</td>\n",
       "      <td>SUNITA PAWAR</td>\n",
       "      <td>4150</td>\n",
       "      <td>1</td>\n",
       "      <td>4151</td>\n",
       "    </tr>\n",
       "    <tr>\n",
       "      <th>9</th>\n",
       "      <td>BARAMATI</td>\n",
       "      <td>GAJANAN UTTAM GAWALI (PATIL)</td>\n",
       "      <td>2991</td>\n",
       "      <td>4</td>\n",
       "      <td>2995</td>\n",
       "    </tr>\n",
       "    <tr>\n",
       "      <th>10</th>\n",
       "      <td>BARAMATI</td>\n",
       "      <td>MANOJ BALASAHEB RASAL</td>\n",
       "      <td>2610</td>\n",
       "      <td>0</td>\n",
       "      <td>2610</td>\n",
       "    </tr>\n",
       "    <tr>\n",
       "      <th>11</th>\n",
       "      <td>BARAMATI</td>\n",
       "      <td>MAHADEV SAHEBRAO KHENGARE - PATIL</td>\n",
       "      <td>2412</td>\n",
       "      <td>6</td>\n",
       "      <td>2418</td>\n",
       "    </tr>\n",
       "    <tr>\n",
       "      <th>12</th>\n",
       "      <td>BARAMATI</td>\n",
       "      <td>PRADEEP RAMCHANDRA MANE</td>\n",
       "      <td>2234</td>\n",
       "      <td>1</td>\n",
       "      <td>2235</td>\n",
       "    </tr>\n",
       "    <tr>\n",
       "      <th>13</th>\n",
       "      <td>BARAMATI</td>\n",
       "      <td>SHIVAJI JAYSING KOKRE</td>\n",
       "      <td>2161</td>\n",
       "      <td>3</td>\n",
       "      <td>2164</td>\n",
       "    </tr>\n",
       "    <tr>\n",
       "      <th>14</th>\n",
       "      <td>BARAMATI</td>\n",
       "      <td>PROF. NAMDEORAO JADHAV</td>\n",
       "      <td>2125</td>\n",
       "      <td>9</td>\n",
       "      <td>2134</td>\n",
       "    </tr>\n",
       "    <tr>\n",
       "      <th>15</th>\n",
       "      <td>BARAMATI</td>\n",
       "      <td>RAJENDRA PANDURANG BHOSALE</td>\n",
       "      <td>2007</td>\n",
       "      <td>2</td>\n",
       "      <td>2009</td>\n",
       "    </tr>\n",
       "    <tr>\n",
       "      <th>16</th>\n",
       "      <td>BARAMATI</td>\n",
       "      <td>KALYANI SUJITKUMAR WAGHMODE</td>\n",
       "      <td>1974</td>\n",
       "      <td>1</td>\n",
       "      <td>1975</td>\n",
       "    </tr>\n",
       "    <tr>\n",
       "      <th>17</th>\n",
       "      <td>BARAMATI</td>\n",
       "      <td>DASHRATH NANA RAUT</td>\n",
       "      <td>1828</td>\n",
       "      <td>6</td>\n",
       "      <td>1834</td>\n",
       "    </tr>\n",
       "    <tr>\n",
       "      <th>18</th>\n",
       "      <td>BARAMATI</td>\n",
       "      <td>ANKUSH DNYANESHAWAR PILANE</td>\n",
       "      <td>1663</td>\n",
       "      <td>0</td>\n",
       "      <td>1663</td>\n",
       "    </tr>\n",
       "    <tr>\n",
       "      <th>19</th>\n",
       "      <td>BARAMATI</td>\n",
       "      <td>SANDIP ABAJI DEOKATE</td>\n",
       "      <td>1622</td>\n",
       "      <td>2</td>\n",
       "      <td>1624</td>\n",
       "    </tr>\n",
       "    <tr>\n",
       "      <th>20</th>\n",
       "      <td>BARAMATI</td>\n",
       "      <td>DATTATRAY RAMBHAU CHANDARE</td>\n",
       "      <td>1433</td>\n",
       "      <td>1</td>\n",
       "      <td>1434</td>\n",
       "    </tr>\n",
       "    <tr>\n",
       "      <th>21</th>\n",
       "      <td>BARAMATI</td>\n",
       "      <td>SHAILENDRA ALIAS SANDEEP KARANJAWANE</td>\n",
       "      <td>1392</td>\n",
       "      <td>0</td>\n",
       "      <td>1392</td>\n",
       "    </tr>\n",
       "    <tr>\n",
       "      <th>22</th>\n",
       "      <td>BARAMATI</td>\n",
       "      <td>SHUBHANGI DHAYGUDE</td>\n",
       "      <td>1283</td>\n",
       "      <td>9</td>\n",
       "      <td>1292</td>\n",
       "    </tr>\n",
       "    <tr>\n",
       "      <th>23</th>\n",
       "      <td>BARAMATI</td>\n",
       "      <td>DR. SOMNATH ALIAS BALASAHEB ARJUN POL</td>\n",
       "      <td>1169</td>\n",
       "      <td>0</td>\n",
       "      <td>1169</td>\n",
       "    </tr>\n",
       "    <tr>\n",
       "      <th>24</th>\n",
       "      <td>BARAMATI</td>\n",
       "      <td>ROHIDAS BALASO KONDAKE</td>\n",
       "      <td>1127</td>\n",
       "      <td>3</td>\n",
       "      <td>1130</td>\n",
       "    </tr>\n",
       "    <tr>\n",
       "      <th>25</th>\n",
       "      <td>BARAMATI</td>\n",
       "      <td>MILIND VITTHAL SHINDE</td>\n",
       "      <td>1099</td>\n",
       "      <td>0</td>\n",
       "      <td>1099</td>\n",
       "    </tr>\n",
       "    <tr>\n",
       "      <th>26</th>\n",
       "      <td>BARAMATI</td>\n",
       "      <td>SURESHDADA BABURAO VIR</td>\n",
       "      <td>1012</td>\n",
       "      <td>0</td>\n",
       "      <td>1012</td>\n",
       "    </tr>\n",
       "    <tr>\n",
       "      <th>27</th>\n",
       "      <td>BARAMATI</td>\n",
       "      <td>BAPU PRALHAD PAWAR</td>\n",
       "      <td>997</td>\n",
       "      <td>1</td>\n",
       "      <td>998</td>\n",
       "    </tr>\n",
       "    <tr>\n",
       "      <th>28</th>\n",
       "      <td>BARAMATI</td>\n",
       "      <td>RAJENDRA MAHADEV BARAKADE</td>\n",
       "      <td>905</td>\n",
       "      <td>2</td>\n",
       "      <td>907</td>\n",
       "    </tr>\n",
       "    <tr>\n",
       "      <th>29</th>\n",
       "      <td>BARAMATI</td>\n",
       "      <td>UMESH MAHADEV MHETRE</td>\n",
       "      <td>807</td>\n",
       "      <td>1</td>\n",
       "      <td>808</td>\n",
       "    </tr>\n",
       "    <tr>\n",
       "      <th>30</th>\n",
       "      <td>BARAMATI</td>\n",
       "      <td>SHIVAJI RAMBHAU NANDKHILE</td>\n",
       "      <td>785</td>\n",
       "      <td>4</td>\n",
       "      <td>789</td>\n",
       "    </tr>\n",
       "    <tr>\n",
       "      <th>31</th>\n",
       "      <td>BARAMATI</td>\n",
       "      <td>SHARAD RAM PAWAR</td>\n",
       "      <td>730</td>\n",
       "      <td>1</td>\n",
       "      <td>731</td>\n",
       "    </tr>\n",
       "    <tr>\n",
       "      <th>32</th>\n",
       "      <td>BARAMATI</td>\n",
       "      <td>LAXMAN RAM KUMBHAR</td>\n",
       "      <td>694</td>\n",
       "      <td>2</td>\n",
       "      <td>696</td>\n",
       "    </tr>\n",
       "    <tr>\n",
       "      <th>33</th>\n",
       "      <td>BARAMATI</td>\n",
       "      <td>SHRIDHAR NARAYAN SALVE</td>\n",
       "      <td>675</td>\n",
       "      <td>4</td>\n",
       "      <td>679</td>\n",
       "    </tr>\n",
       "    <tr>\n",
       "      <th>34</th>\n",
       "      <td>BARAMATI</td>\n",
       "      <td>BALASO MARUTI DHAPATE</td>\n",
       "      <td>655</td>\n",
       "      <td>0</td>\n",
       "      <td>655</td>\n",
       "    </tr>\n",
       "    <tr>\n",
       "      <th>35</th>\n",
       "      <td>BARAMATI</td>\n",
       "      <td>VIJAY LAXMAN GHAVALE</td>\n",
       "      <td>617</td>\n",
       "      <td>3</td>\n",
       "      <td>620</td>\n",
       "    </tr>\n",
       "    <tr>\n",
       "      <th>36</th>\n",
       "      <td>BARAMATI</td>\n",
       "      <td>VISHAL ARUN PAWAR</td>\n",
       "      <td>553</td>\n",
       "      <td>0</td>\n",
       "      <td>553</td>\n",
       "    </tr>\n",
       "    <tr>\n",
       "      <th>37</th>\n",
       "      <td>BARAMATI</td>\n",
       "      <td>SAVITA BHIMRAO KADALE</td>\n",
       "      <td>549</td>\n",
       "      <td>2</td>\n",
       "      <td>551</td>\n",
       "    </tr>\n",
       "    <tr>\n",
       "      <th>38</th>\n",
       "      <td>BARAMATI</td>\n",
       "      <td>VIJAYPRAKASH ANANT KONDEKAR</td>\n",
       "      <td>301</td>\n",
       "      <td>0</td>\n",
       "      <td>301</td>\n",
       "    </tr>\n",
       "  </tbody>\n",
       "</table>\n",
       "</div>"
      ],
      "text/plain": [
       "   Constituency Name                              Candidate  EVM Votes  \\\n",
       "0           BARAMATI                           SUPRIYA SULE     731400   \n",
       "1           BARAMATI                 SUNETRA AJITDADA PAWAR     573391   \n",
       "2           BARAMATI                 MAHESH SITARAM BHAGWAT      15620   \n",
       "3           BARAMATI           SHAIKH SOYALSHAHA YUNUSSHAHA      14913   \n",
       "4           BARAMATI         PRIYADARSHANI NANDKUMAR KOKARE       9995   \n",
       "5           BARAMATI                                   NOTA       9130   \n",
       "6           BARAMATI                 SACHIN SHANKAR AGAWANE       6633   \n",
       "7           BARAMATI                        KAMBLE TRISHALA       5032   \n",
       "8           BARAMATI                           SUNITA PAWAR       4150   \n",
       "9           BARAMATI           GAJANAN UTTAM GAWALI (PATIL)       2991   \n",
       "10          BARAMATI                  MANOJ BALASAHEB RASAL       2610   \n",
       "11          BARAMATI      MAHADEV SAHEBRAO KHENGARE - PATIL       2412   \n",
       "12          BARAMATI                PRADEEP RAMCHANDRA MANE       2234   \n",
       "13          BARAMATI                  SHIVAJI JAYSING KOKRE       2161   \n",
       "14          BARAMATI                 PROF. NAMDEORAO JADHAV       2125   \n",
       "15          BARAMATI             RAJENDRA PANDURANG BHOSALE       2007   \n",
       "16          BARAMATI            KALYANI SUJITKUMAR WAGHMODE       1974   \n",
       "17          BARAMATI                     DASHRATH NANA RAUT       1828   \n",
       "18          BARAMATI             ANKUSH DNYANESHAWAR PILANE       1663   \n",
       "19          BARAMATI                   SANDIP ABAJI DEOKATE       1622   \n",
       "20          BARAMATI             DATTATRAY RAMBHAU CHANDARE       1433   \n",
       "21          BARAMATI   SHAILENDRA ALIAS SANDEEP KARANJAWANE       1392   \n",
       "22          BARAMATI                     SHUBHANGI DHAYGUDE       1283   \n",
       "23          BARAMATI  DR. SOMNATH ALIAS BALASAHEB ARJUN POL       1169   \n",
       "24          BARAMATI                 ROHIDAS BALASO KONDAKE       1127   \n",
       "25          BARAMATI                  MILIND VITTHAL SHINDE       1099   \n",
       "26          BARAMATI                 SURESHDADA BABURAO VIR       1012   \n",
       "27          BARAMATI                     BAPU PRALHAD PAWAR        997   \n",
       "28          BARAMATI              RAJENDRA MAHADEV BARAKADE        905   \n",
       "29          BARAMATI                   UMESH MAHADEV MHETRE        807   \n",
       "30          BARAMATI              SHIVAJI RAMBHAU NANDKHILE        785   \n",
       "31          BARAMATI                       SHARAD RAM PAWAR        730   \n",
       "32          BARAMATI                     LAXMAN RAM KUMBHAR        694   \n",
       "33          BARAMATI                 SHRIDHAR NARAYAN SALVE        675   \n",
       "34          BARAMATI                  BALASO MARUTI DHAPATE        655   \n",
       "35          BARAMATI                   VIJAY LAXMAN GHAVALE        617   \n",
       "36          BARAMATI                      VISHAL ARUN PAWAR        553   \n",
       "37          BARAMATI                  SAVITA BHIMRAO KADALE        549   \n",
       "38          BARAMATI            VIJAYPRAKASH ANANT KONDEKAR        301   \n",
       "\n",
       "    Postal Votes  Total Votes  \n",
       "0            912       732312  \n",
       "1            588       573979  \n",
       "2             43        15663  \n",
       "3              4        14917  \n",
       "4             35        10030  \n",
       "5             21         9151  \n",
       "6              0         6633  \n",
       "7              4         5036  \n",
       "8              1         4151  \n",
       "9              4         2995  \n",
       "10             0         2610  \n",
       "11             6         2418  \n",
       "12             1         2235  \n",
       "13             3         2164  \n",
       "14             9         2134  \n",
       "15             2         2009  \n",
       "16             1         1975  \n",
       "17             6         1834  \n",
       "18             0         1663  \n",
       "19             2         1624  \n",
       "20             1         1434  \n",
       "21             0         1392  \n",
       "22             9         1292  \n",
       "23             0         1169  \n",
       "24             3         1130  \n",
       "25             0         1099  \n",
       "26             0         1012  \n",
       "27             1          998  \n",
       "28             2          907  \n",
       "29             1          808  \n",
       "30             4          789  \n",
       "31             1          731  \n",
       "32             2          696  \n",
       "33             4          679  \n",
       "34             0          655  \n",
       "35             3          620  \n",
       "36             0          553  \n",
       "37             2          551  \n",
       "38             0          301  "
      ]
     },
     "execution_count": 63,
     "metadata": {},
     "output_type": "execute_result"
    }
   ],
   "source": [
    "total"
   ]
  },
  {
   "cell_type": "markdown",
   "id": "91916f74-f380-4f5a-a1c0-3bc684c6d8c9",
   "metadata": {},
   "source": [
    "# Q 10} which party won most seats in state and how many seats did each party win for specific state;\n"
   ]
  },
  {
   "cell_type": "code",
   "execution_count": 65,
   "id": "560b90e4-654b-4ac9-b2ca-6d1c26b4057f",
   "metadata": {},
   "outputs": [],
   "source": [
    "query='''\n",
    "   \n",
    "SELECT \n",
    "    \"partywise_results\".\"Party\",\n",
    "    COUNT(distinct\"constituencywise_results\".\"Constituency ID\") AS \"won_seats\"\n",
    "FROM \n",
    "    \"partywise_results\"\n",
    "JOIN \n",
    "    \"constituencywise_results\" \n",
    "    ON \"partywise_results\".\"Party ID\" = \"constituencywise_results\".\"Party ID\"\n",
    "JOIN \n",
    "    \"statewise_results\" \n",
    "    ON \"constituencywise_results\".\"Parliament Constituency\" = \"statewise_results\".\"Parliament Constituency\"\n",
    "JOIN \n",
    "    \"States\" \n",
    "    ON \"statewise_results\".\"State ID\" = \"States\".\"State ID\"\n",
    "WHERE \n",
    "    \"States\".\"State\" = 'Maharashtra'\n",
    "GROUP BY \n",
    "    \"partywise_results\".\"Party\"\n",
    "ORDER BY \n",
    "    \"won_seats\" DESC;\n",
    "\n",
    "\n",
    "\n",
    "\n",
    "'''\n",
    "total=pd.read_sql(query,engine)"
   ]
  },
  {
   "cell_type": "code",
   "execution_count": null,
   "id": "240fd0cc-72ec-4d70-98dc-b85423eff19d",
   "metadata": {},
   "outputs": [],
   "source": []
  },
  {
   "cell_type": "code",
   "execution_count": 66,
   "id": "a6f2fa37-139a-4e17-87ba-b90970e155cc",
   "metadata": {},
   "outputs": [
    {
     "data": {
      "text/html": [
       "<div>\n",
       "<style scoped>\n",
       "    .dataframe tbody tr th:only-of-type {\n",
       "        vertical-align: middle;\n",
       "    }\n",
       "\n",
       "    .dataframe tbody tr th {\n",
       "        vertical-align: top;\n",
       "    }\n",
       "\n",
       "    .dataframe thead th {\n",
       "        text-align: right;\n",
       "    }\n",
       "</style>\n",
       "<table border=\"1\" class=\"dataframe\">\n",
       "  <thead>\n",
       "    <tr style=\"text-align: right;\">\n",
       "      <th></th>\n",
       "      <th>Party</th>\n",
       "      <th>won_seats</th>\n",
       "    </tr>\n",
       "  </thead>\n",
       "  <tbody>\n",
       "    <tr>\n",
       "      <th>0</th>\n",
       "      <td>Indian National Congress - INC</td>\n",
       "      <td>13</td>\n",
       "    </tr>\n",
       "    <tr>\n",
       "      <th>1</th>\n",
       "      <td>Shiv Sena (Uddhav Balasaheb Thackrey) - SHSUBT</td>\n",
       "      <td>9</td>\n",
       "    </tr>\n",
       "    <tr>\n",
       "      <th>2</th>\n",
       "      <td>Bharatiya Janata Party - BJP</td>\n",
       "      <td>9</td>\n",
       "    </tr>\n",
       "    <tr>\n",
       "      <th>3</th>\n",
       "      <td>Nationalist Congress Party Sharadchandra Pawar...</td>\n",
       "      <td>8</td>\n",
       "    </tr>\n",
       "    <tr>\n",
       "      <th>4</th>\n",
       "      <td>Shiv Sena - SHS</td>\n",
       "      <td>7</td>\n",
       "    </tr>\n",
       "    <tr>\n",
       "      <th>5</th>\n",
       "      <td>Nationalist Congress Party - NCP</td>\n",
       "      <td>1</td>\n",
       "    </tr>\n",
       "    <tr>\n",
       "      <th>6</th>\n",
       "      <td>Independent - IND</td>\n",
       "      <td>1</td>\n",
       "    </tr>\n",
       "  </tbody>\n",
       "</table>\n",
       "</div>"
      ],
      "text/plain": [
       "                                               Party  won_seats\n",
       "0                     Indian National Congress - INC         13\n",
       "1     Shiv Sena (Uddhav Balasaheb Thackrey) - SHSUBT          9\n",
       "2                       Bharatiya Janata Party - BJP          9\n",
       "3  Nationalist Congress Party Sharadchandra Pawar...          8\n",
       "4                                    Shiv Sena - SHS          7\n",
       "5                   Nationalist Congress Party - NCP          1\n",
       "6                                  Independent - IND          1"
      ]
     },
     "execution_count": 66,
     "metadata": {},
     "output_type": "execute_result"
    }
   ],
   "source": [
    "total"
   ]
  },
  {
   "cell_type": "markdown",
   "id": "07c228fc-13cb-4083-b5a4-59a6791496f1",
   "metadata": {},
   "source": [
    "\n",
    "for maharastra state"
   ]
  },
  {
   "cell_type": "markdown",
   "id": "461c49b4-fb59-4d77-891d-d03e988cbf62",
   "metadata": {},
   "source": [
    "# Q 11]total seats won by each party of(alliance) (nda,india,other) in each state for 2024 election;\n"
   ]
  },
  {
   "cell_type": "code",
   "execution_count": 69,
   "id": "5327ab9e-6a0d-4570-bb9e-22237b8f7144",
   "metadata": {},
   "outputs": [
    {
     "ename": "IndentationError",
     "evalue": "unexpected indent (2713587925.py, line 2)",
     "output_type": "error",
     "traceback": [
      "\u001b[1;36m  Cell \u001b[1;32mIn[69], line 2\u001b[1;36m\u001b[0m\n\u001b[1;33m    \"States\".\"State\",\u001b[0m\n\u001b[1;37m    ^\u001b[0m\n\u001b[1;31mIndentationError\u001b[0m\u001b[1;31m:\u001b[0m unexpected indent\n"
     ]
    }
   ],
   "source": [
    "SELECT\n",
    "    \"States\".\"State\",\n",
    "    \"partywise_results\".\"alliance\",\n",
    "    COUNT(DISTINCT \"constituencywise_results\".\"Constituency ID\") AS \"won_seats\"\n",
    "FROM\n",
    "    \"partywise_results\"\n",
    "JOIN\n",
    "    \"constituencywise_results\" \n",
    "    ON \"partywise_results\".\"Party ID\" = \"constituencywise_results\".\"Party ID\"\n",
    "JOIN\n",
    "    \"statewise_results\" \n",
    "    ON \"constituencywise_results\".\"Parliament Constituency\" = \"statewise_results\".\"Parliament Constituency\"\n",
    "JOIN\n",
    "    \"States\" \n",
    "    ON \"statewise_results\".\"State ID\" = \"States\".\"State ID\"\n",
    "WHERE\n",
    "    \"States\".\"State\" = 'Maharashtra'\n",
    "    AND \"partywise_results\".\"alliance\" IS NOT NULL\n",
    "GROUP BY\n",
    "    \"States\".\"State\", \"partywise_results\".\"alliance\"\n",
    "ORDER BY\n",
    "    \"won_seats\" DESC;"
   ]
  },
  {
   "cell_type": "code",
   "execution_count": null,
   "id": "4c0485af-8b4d-4539-a05a-fe0f55d79b15",
   "metadata": {},
   "outputs": [],
   "source": [
    "query='''\n",
    "SELECT\n",
    "    \"States\".\"State\",\n",
    "    \"partywise_results\".\"alliance\",\n",
    "    COUNT(DISTINCT \"constituencywise_results\".\"Constituency ID\") AS \"won_seats\"\n",
    "FROM\n",
    "    \"partywise_results\"\n",
    "JOIN\n",
    "    \"constituencywise_results\" \n",
    "    ON \"partywise_results\".\"Party ID\" = \"constituencywise_results\".\"Party ID\"\n",
    "JOIN\n",
    "    \"statewise_results\" \n",
    "    ON \"constituencywise_results\".\"Parliament Constituency\" = \"statewise_results\".\"Parliament Constituency\"\n",
    "JOIN\n",
    "    \"States\" \n",
    "    ON \"statewise_results\".\"State ID\" = \"States\".\"State ID\"\n",
    "WHERE\n",
    "    \"States\".\"State\" = 'Maharashtra'\n",
    "    AND \"partywise_results\".\"alliance\" IS NOT NULL\n",
    "GROUP BY\n",
    "    \"States\".\"State\", \"partywise_results\".\"alliance\"\n",
    "ORDER BY\n",
    "    \"won_seats\" DESC;\n",
    "\n",
    "'''\n",
    "total=pd.read_sql(query,engine)\n",
    "\n",
    "\n",
    "\n"
   ]
  },
  {
   "cell_type": "code",
   "execution_count": null,
   "id": "b49a8209-0690-459f-957c-29bc72a2498f",
   "metadata": {},
   "outputs": [],
   "source": [
    "total"
   ]
  },
  {
   "cell_type": "markdown",
   "id": "83a11b43-8f8a-4c66-bc0a-2dc2fc4b4369",
   "metadata": {},
   "source": [
    "# Q13] which candidate  received the highest number of evmvotes in each constituency;"
   ]
  },
  {
   "cell_type": "code",
   "execution_count": null,
   "id": "e4ce02b2-af04-46ef-a97c-a7c50c23d9c0",
   "metadata": {},
   "outputs": [],
   "source": [
    "query='''\n",
    "SELECT \n",
    "    \"constituencywise_details\".\"Candidate\", \n",
    "    MAX(\"constituencywise_details\".\"EVM Votes\") AS \"EVM Votes\"\n",
    "FROM \n",
    "    \"constituencywise_details\"\n",
    "GROUP BY \n",
    "    \"constituencywise_details\".\"Candidate\"\n",
    "ORDER BY \n",
    "    \"EVM Votes\" DESC\n",
    "LIMIT 5;\n",
    "'''\n",
    "total=pd.read_sql(query,engine)\n",
    "\n",
    "\n",
    "\n"
   ]
  },
  {
   "cell_type": "code",
   "execution_count": null,
   "id": "05765ebd-25c8-4bb5-bccf-4c88b81817cd",
   "metadata": {},
   "outputs": [],
   "source": [
    "total"
   ]
  },
  {
   "cell_type": "code",
   "execution_count": null,
   "id": "c5d284ac-b454-4a06-812c-c5238362d48f",
   "metadata": {},
   "outputs": [],
   "source": [
    "\n",
    "plt.figure(figsize=(10,6))\n",
    "bar_plot = sns.barplot(x='EVM Votes', y='Candidate', data=total, palette='viridis')\n",
    "\n",
    "for index, value in enumerate(total['EVM Votes']):\n",
    "    bar_plot.text(value + 50000, index, f'{value:,}', va='center', fontweight='bold')\n",
    "\n",
    "plt.title('Top 5 Candidates with the Most EVM Votes', fontsize=16)\n",
    "plt.xlabel('EVM Votes', fontsize=14)\n",
    "plt.ylabel('Candidate', fontsize=14)\n",
    "\n",
    "\n",
    "plt.show()"
   ]
  },
  {
   "cell_type": "markdown",
   "id": "32505d42-e1a6-44a8-802c-8e1272c57e19",
   "metadata": {},
   "source": [
    " # Q 14] which candidate won and which candidate is runner up in each constituency of  state for 2024 election;\n"
   ]
  },
  {
   "cell_type": "code",
   "execution_count": null,
   "id": "3bc45a58-5004-4465-8021-bccd5466870a",
   "metadata": {},
   "outputs": [],
   "source": [
    "query='''\n",
    "\n",
    "SELECT \n",
    "    \"statewise_results\".\"Constituency\", \n",
    "    \"statewise_results\".\"Leading Candidate\" AS \"winning_candidate\", \n",
    "    \"statewise_results\".\"Trailing Candidate\" AS \"runnerup_candidate\"\n",
    "FROM \n",
    "    \"statewise_results\"\n",
    "LIMIT 10;\n",
    "'''\n",
    "total=pd.read_sql(query,engine)\n",
    "\n",
    "\n",
    "\n"
   ]
  },
  {
   "cell_type": "code",
   "execution_count": null,
   "id": "7760b813-8474-4d13-a1e5-8053c7b90446",
   "metadata": {},
   "outputs": [],
   "source": [
    "total"
   ]
  },
  {
   "cell_type": "markdown",
   "id": "66a5b36e-df89-4bcb-b3c3-46070fb80adb",
   "metadata": {},
   "source": [
    "# Q15] FOR  STATE MAHARASTA WHAT ARE TOTAL NUMBER OF SEATS ,TOTAL_NUMBER OF CANDIDATE ,TOTAL NUMBER OF PARTIES, TOTAL VOTES INCLUDING EVM,POSTAL AND BREAK DOWN OF POSTAL AND EVM VOTE;"
   ]
  },
  {
   "cell_type": "code",
   "execution_count": null,
   "id": "3d35d9f4-6441-4931-974a-049faf4f2052",
   "metadata": {},
   "outputs": [],
   "source": [
    "query='''\n",
    "\n",
    "SELECT \n",
    "    \"States\".\"State\" AS \"state_name\",\n",
    "    COUNT(DISTINCT \"statewise_results\".\"Constituency\") AS \"total_constituencies\",\n",
    "    COUNT(DISTINCT \"constituencywise_details\".\"Candidate\") AS \"total_candidates\",\n",
    "    COUNT(DISTINCT \"constituencywise_details\".\"Party\") AS \"total_parties\",\n",
    "    SUM(\"constituencywise_details\".\"Total Votes\") AS \"total_votes\",\n",
    "    SUM(\"constituencywise_details\".\"EVM Votes\") AS \"total_evm_votes\",\n",
    "    SUM(\"constituencywise_details\".\"Postal Votes\") AS \"total_postal_votes\"\n",
    "FROM \n",
    "    \"States\"\n",
    "JOIN \n",
    "    \"statewise_results\" ON \"States\".\"State ID\" = \"statewise_results\".\"State ID\"\n",
    "JOIN \n",
    "    \"constituencywise_results\" ON \"statewise_results\".\"Parliament Constituency\" = \"constituencywise_results\".\"Parliament Constituency\"\n",
    "JOIN \n",
    "    \"constituencywise_details\" ON \"constituencywise_results\".\"Constituency ID\" = \"constituencywise_details\".\"Constituency ID\"\n",
    "WHERE \n",
    "    \"States\".\"State\" = 'Maharashtra'\n",
    "GROUP BY \n",
    "    \"States\".\"State\";\n",
    "\n",
    "'''\n",
    "total=pd.read_sql(query,engine)\n",
    "\n",
    "\n",
    "\n"
   ]
  },
  {
   "cell_type": "code",
   "execution_count": null,
   "id": "040a767e-88b6-4ba7-a03a-e894a06d67c6",
   "metadata": {},
   "outputs": [],
   "source": [
    "total"
   ]
  },
  {
   "cell_type": "code",
   "execution_count": null,
   "id": "757a9fc4-07d7-45bc-bd6c-527e231f8808",
   "metadata": {},
   "outputs": [],
   "source": []
  }
 ],
 "metadata": {
  "kernelspec": {
   "display_name": "Python 3 (ipykernel)",
   "language": "python",
   "name": "python3"
  },
  "language_info": {
   "codemirror_mode": {
    "name": "ipython",
    "version": 3
   },
   "file_extension": ".py",
   "mimetype": "text/x-python",
   "name": "python",
   "nbconvert_exporter": "python",
   "pygments_lexer": "ipython3",
   "version": "3.12.4"
  }
 },
 "nbformat": 4,
 "nbformat_minor": 5
}
